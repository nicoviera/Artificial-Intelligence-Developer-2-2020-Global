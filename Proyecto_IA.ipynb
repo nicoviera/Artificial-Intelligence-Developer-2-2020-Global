{
  "nbformat": 4,
  "nbformat_minor": 0,
  "metadata": {
    "colab": {
      "name": "Proyecto IA.ipynb",
      "provenance": [],
      "collapsed_sections": [
        "gw7hwn_hzE6H",
        "S9ipIuECC_cQ"
      ],
      "toc_visible": true
    },
    "kernelspec": {
      "display_name": "Python 3",
      "name": "python3"
    }
  },
  "cells": [
    {
      "cell_type": "markdown",
      "metadata": {
        "id": "MDGCgdBWOOFQ"
      },
      "source": [
        "# Imports\n"
      ]
    },
    {
      "cell_type": "code",
      "metadata": {
        "id": "gADZtULNNx0u"
      },
      "source": [
        "from __future__ import print_function, division\n",
        "import os\n",
        "import torch\n",
        "import pandas as pd\n",
        "from skimage import io, transform\n",
        "import numpy as np\n",
        "import matplotlib.pyplot as plt\n",
        "from torch.utils.data import Dataset, DataLoader\n",
        "from torchvision import transforms, utils\n",
        "import PIL\n",
        "\n",
        "# Ignore warnings\n",
        "import warnings\n",
        "warnings.filterwarnings(\"ignore\")\n",
        "\n",
        "plt.ion()   # interactive mode"
      ],
      "execution_count": null,
      "outputs": []
    },
    {
      "cell_type": "markdown",
      "metadata": {
        "id": "4f_R-pCSVXql"
      },
      "source": [
        "# Build Dataset\n",
        "\n"
      ]
    },
    {
      "cell_type": "code",
      "metadata": {
        "id": "oz_pTU1DVkg6"
      },
      "source": [
        "class Shoes_Classification_Dataset(Dataset):\n",
        "    \"\"\"Face Landmarks dataset.\"\"\"\n",
        "\n",
        "    def __init__(self, csv_file, root_dir, transform=None, ResizedCrop=True):\n",
        "        \"\"\"\n",
        "        Args:\n",
        "            csv_file (string): Path to the csv file with annotations.\n",
        "            root_dir (string): Directory with all the images.\n",
        "            transform (callable, optional): Optional transform to be applied\n",
        "                on a sample.\n",
        "        \"\"\"\n",
        "        self.landmarks_frame = pd.read_csv(csv_file,encoding='ISO-8859-1')\n",
        "        self.root_dir = root_dir\n",
        "        self.transform = transform\n",
        "        self.ResizedCrop = ResizedCrop\n",
        "        self.mi_dict = {}\n",
        "        self.scale = [0,0.8,0.5,0.9,0.7,0.6,0.4,0.3,0.2,0.1,0.09,0.8,0.07,0.085,0.075]\n",
        "        self.crop = {}\n",
        "\n",
        "    def __len__(self):\n",
        "        return len(self.landmarks_frame)\n",
        "\n",
        "    def __getitem__(self, idx):\n",
        "        if torch.is_tensor(idx):\n",
        "            idx = idx.tolist()\n",
        "\n",
        "        img_name = os.path.join(self.root_dir,\n",
        "                                self.landmarks_frame.iloc[idx, 0])\n",
        "        imagen = io.imread(img_name)\n",
        "        #\n",
        "        imagen = PIL.Image.open(img_name)\n",
        "        #\n",
        "        #print('idx: {}'.format(idx))\n",
        "        landmarks = self.landmarks_frame.iloc[idx, 1:]\n",
        "        landmarks = np.asarray(landmarks)\n",
        "        landmarks = landmarks.astype('long').reshape(-1, 6)\n",
        "        #landmarks = landmarks.transpose()\n",
        "                \n",
        "        if self.transform:\n",
        "            imagen = self.transform(imagen)\n",
        "\n",
        "            if self.ResizedCrop:\n",
        "              i =  self.mi_dict.get(img_name,0)\n",
        "              j =  self.crop.get(idx,0)\n",
        "              if j == 0:                         \n",
        "                self.mi_dict[img_name] = self.mi_dict.get(img_name,0) + 1\n",
        "                self.crop[idx] = i \n",
        "              else:\n",
        "                i=j   \n",
        "              #print(i)\n",
        "              \n",
        "              if i > 0:\n",
        "                #print('RESCALE')\n",
        "                #print(i)\n",
        "                reScale = self.scale[i]\n",
        "                #print(reScale)\n",
        "                ResizedCrop = transforms.Compose([\n",
        "                    transforms.RandomResizedCrop((32,32), scale=(reScale, 1.0), ratio=(0.75, 1.3333333333333333), interpolation=2)\n",
        "                ])\n",
        "            \n",
        "                imagen = ResizedCrop(imagen)\n",
        "\n",
        "        return imagen,landmarks"
      ],
      "execution_count": null,
      "outputs": []
    },
    {
      "cell_type": "code",
      "metadata": {
        "id": "or38StP2mvGs"
      },
      "source": [
        "data_transform = transforms.Compose([\n",
        "        transforms.Resize((32,32)), \n",
        "        transforms.ToTensor(),\n",
        "        transforms.Normalize((0.5, 0.5, 0.5), (0.5, 0.5, 0.5))\n",
        "    ])"
      ],
      "execution_count": null,
      "outputs": []
    },
    {
      "cell_type": "code",
      "metadata": {
        "id": "qOsoIaVsovws"
      },
      "source": [
        "train_dataset = Shoes_Classification_Dataset(csv_file='drive/My Drive/shoes/train_dataset.csv',\n",
        "                                    root_dir='drive/My Drive/shoes/',\n",
        "                                    transform=data_transform,\n",
        "                                    ResizedCrop = True)\n",
        "\n",
        "test_dataset = Shoes_Classification_Dataset(csv_file='drive/My Drive/shoes/test_dataset.csv',\n",
        "                                    root_dir='drive/My Drive/shoes/',\n",
        "                                    transform=data_transform,\n",
        "                                    ResizedCrop = False)\n",
        "\n",
        "tags = ('Acordonado','Plataforma','Taco','Hebilla','Tachas')\n",
        "classes = ('bota','deportivo','zapato','sandalia')\n",
        "\n"
      ],
      "execution_count": null,
      "outputs": []
    },
    {
      "cell_type": "markdown",
      "metadata": {
        "id": "--HT8wXSGQAi"
      },
      "source": [
        "# Build DataLoader"
      ]
    },
    {
      "cell_type": "code",
      "metadata": {
        "id": "Km5uv1C5GO2y"
      },
      "source": [
        "train_dl = DataLoader(train_dataset, batch_size=4,\n",
        "                        shuffle=True, num_workers=2)\n",
        "\n",
        "test_dl = DataLoader(test_dataset, batch_size=4,\n",
        "                        shuffle=True, num_workers=2)\n"
      ],
      "execution_count": null,
      "outputs": []
    },
    {
      "cell_type": "code",
      "metadata": {
        "id": "X7k9--y8f95f"
      },
      "source": [
        "import matplotlib.pyplot as plt\n",
        "import numpy as np\n",
        "import torchvision\n",
        "\n",
        "# functions to show an image\n",
        "def imshow(img):\n",
        "    img = img / 2 + 0.5     # unnormalize\n",
        "    npimg = img.numpy()\n",
        "    plt.imshow(np.transpose(npimg, (1, 2, 0)))\n",
        "    plt.show()"
      ],
      "execution_count": null,
      "outputs": []
    },
    {
      "cell_type": "markdown",
      "metadata": {
        "id": "gw7hwn_hzE6H"
      },
      "source": [
        "# Modelo"
      ]
    },
    {
      "cell_type": "code",
      "metadata": {
        "id": "hes4iLhJpvPV"
      },
      "source": [
        "nn.Conv2d?"
      ],
      "execution_count": null,
      "outputs": []
    },
    {
      "cell_type": "code",
      "metadata": {
        "id": "t8UEiWSGzGx9"
      },
      "source": [
        "import torch.nn.functional as F\n",
        "import torch.nn as nn\n",
        "\n",
        "class Model(nn.Module):\n",
        "\n",
        "  def __init__(self, output_size=9):\n",
        "    super(Model, self).__init__()\n",
        "\n",
        "    self.conv1 = nn.Conv2d(3, 16, 3, stride=1, padding=1)\n",
        "    \n",
        "    # kernel = 2, stride = 2\n",
        "    self.max_pool = nn.MaxPool2d(2, 2)\n",
        "\n",
        "    self.conv2 = nn.Conv2d(16, 32, 3, stride=1, padding=1)\n",
        "    self.conv3 = nn.Conv2d(32, 64, 3, stride=1, padding=1)\n",
        "\n",
        "    self.fc1 = nn.Linear(64*4*4,1024)\n",
        "    self.fc2 = nn.Linear(1024, output_size)\n",
        "\n",
        "    self.sigmoid = nn.Sigmoid();\n",
        "\n",
        "    self.tag1 = nn.Linear(output_size,1)\n",
        "    self.tag2 = nn.Linear(output_size,1)\n",
        "    self.tag3 = nn.Linear(output_size,1)\n",
        "    self.tag4 = nn.Linear(output_size,1)\n",
        "    self.tag5 = nn.Linear(output_size,1)\n",
        "    self.classification = nn.Linear(output_size,4)\n",
        "\n",
        "  def forward(self, X):\n",
        "    # Recodar que el in\n",
        "    assert (X.shape[1:] == (3,32,32))\n",
        "    Z1 = self.conv1(X)\n",
        "    assert (Z1.shape[1:] == (16,32,32))\n",
        "    A1 = F.relu(Z1)\n",
        "    assert (A1.shape[1:] == (16,32,32))\n",
        "    A1_DS = self.max_pool(A1)\n",
        "    assert (A1_DS.shape[1:] == (16,16,16))\n",
        "\n",
        "    Z2 = self.conv2(A1_DS)\n",
        "    assert (Z2.shape[1:] == (32,16,16))\n",
        "    A2 = F.relu(Z2)\n",
        "    assert (A2.shape[1:] == (32,16,16))\n",
        "    A2_DS = self.max_pool(A2)\n",
        "    assert (A2_DS.shape[1:] == (32,8,8))\n",
        "\n",
        "    Z3 = self.conv3(A2_DS)\n",
        "    assert (Z3.shape[1:] == (64,8,8))\n",
        "    A3 = F.relu(Z3)\n",
        "    assert (A3.shape[1:] == (64,8,8))\n",
        "    A3_DS = self.max_pool(A3)\n",
        "    assert (A3_DS.shape[1:] == (64,4,4))\n",
        "\n",
        "    A3_DS = A3_DS.view(-1, 64*4*4)\n",
        "    Z4 = self.fc1(A3_DS)\n",
        "    A4 = F.relu(Z4)\n",
        "    Z5 = self.fc2(A4)\n",
        "    \n",
        "    o1 = self.tag1(Z5)\n",
        "    oo1 = self.sigmoid(o1)\n",
        "\n",
        "    o2 = self.tag2(Z5)\n",
        "    oo2 = self.sigmoid(o2)\n",
        "\n",
        "    o3 = self.tag3(Z5)\n",
        "    oo3 = self.sigmoid(o3)\n",
        "\n",
        "    o4 = self.tag4(Z5)\n",
        "    oo4 = self.sigmoid(o4)\n",
        "\n",
        "    o5 = self.tag5(Z5)\n",
        "    oo5 = self.sigmoid(o5)\n",
        "    \n",
        "    o6 = self.classification(Z5)\n",
        "\n",
        "    return oo1, oo2, oo3, oo4, oo5, o6\n",
        "\n",
        "  def print_layers(self, detailed=False):\n",
        "    if detailed:\n",
        "      for name, param in self.named_parameters():\n",
        "        print(name, param.size())\n",
        "    else:\n",
        "      for layer in m.children():\n",
        "        num_params = sum(p.numel() for p in layer.parameters())\n",
        "        print(f\"Layer: {layer}, Parameters: {num_params}\") \n",
        "    print(f\"Total Parameters: {self._num_parameters()}\")\n",
        "    \n",
        "\n",
        "  def _num_parameters(self):\n",
        "    return sum(p.numel() for p in self.parameters())"
      ],
      "execution_count": null,
      "outputs": []
    },
    {
      "cell_type": "code",
      "metadata": {
        "id": "oDeRgS7iIAfB"
      },
      "source": [
        "bce = nn.BCELoss?"
      ],
      "execution_count": null,
      "outputs": []
    },
    {
      "cell_type": "markdown",
      "metadata": {
        "id": "iEDxmhupznf0"
      },
      "source": [
        "# Model Interface"
      ]
    },
    {
      "cell_type": "code",
      "metadata": {
        "id": "2w5b3yarzrtm"
      },
      "source": [
        "import torch.optim as optim\n",
        "\n",
        "class ModelInterface():\n",
        "\n",
        "  def __init__(self):\n",
        "    self.device = torch.device(\"cuda:0\" if torch.cuda.is_available() else \"cpu\")\n",
        "    self.model = Model(9).to(self.device)\n",
        "\n",
        "  def save_model(self, path='./model.state'):\n",
        "    \n",
        "    torch.save(self.model.state_dict(), path)\n",
        "  \n",
        "  def load_model(self, path='./model.state'):\n",
        "    \n",
        "    self.model.load_state_dict(torch.load(path))\n",
        "\n",
        "  \n",
        "  def train(self, epochs, train_dl):\n",
        "    \n",
        "    print(f\"Training on devide: {self.device}\")\n",
        "\n",
        "    #sigmoid = nn.Sigmoid();\n",
        "    bce = nn.BCELoss()\n",
        "    criterion = nn.CrossEntropyLoss()\n",
        "    optimizer = optim.SGD(self.model.parameters(), lr=0.001, momentum=0.9, weight_decay=0.01)\n",
        "\n",
        "    for epoch in range(epochs):  \n",
        "      print(f'Running epoch {epoch}')\n",
        "      running_loss = 0.0\n",
        "      \n",
        "      for i, data in enumerate(train_dl, 0):\n",
        "        \n",
        "        inputs, labels = data[0].to(self.device), data[1].to(self.device)\n",
        "\n",
        "        # zero the parameter gradients\n",
        "        optimizer.zero_grad()\n",
        "\n",
        "        # forward + backward + optimize\n",
        "        o1, o2, o3, o4, o5, o6 = self.model(inputs) \n",
        "        \n",
        "        #acordonado        \n",
        "        labelAcordonado = torch.tensor([[labels[0][0][0]],[labels[1][0][0]],[labels[2][0][0]]\n",
        "                                        ,[labels[3][0][0]]],dtype=torch.float)        \n",
        "        lossAcordonado = bce(o1,labelAcordonado)\n",
        "        \n",
        "        #Plataforma\n",
        "        labelPlataforma = torch.tensor([[labels[0][0][1]],[labels[1][0][1]],[labels[2][0][1]]\n",
        "                                        ,[labels[3][0][1]]],dtype=torch.float)\n",
        "        lossPlataforma = bce(o2,labelPlataforma)\n",
        "\n",
        "        #Taco\n",
        "        labelTaco = torch.tensor([[labels[0][0][2]],[labels[1][0][2]],[labels[2][0][2]]\n",
        "                                  ,[labels[3][0][2]]],dtype=torch.float)\n",
        "        lossTaco = bce(o3,labelTaco)\n",
        "\n",
        "        #Hebilla\n",
        "        labelHebilla = torch.tensor([[labels[0][0][3]],[labels[1][0][3]],[labels[2][0][3]],\n",
        "                                     [labels[3][0][3]]],dtype=torch.float)\n",
        "        lossHebilla = bce(o4,labelHebilla)\n",
        "\n",
        "        #Tachas\n",
        "        labelTachas = torch.tensor([[labels[0][0][4]],[labels[1][0][4]],[labels[2][0][4]],\n",
        "                                    [labels[3][0][4]]],dtype=torch.float)\n",
        "        lossTachas = bce(o5,labelTachas)\n",
        "\n",
        "        #CATEGORIZACION\n",
        "        labelCATEGORIZACION = torch.tensor([labels[0][0][5],labels[1][0][5],labels[2][0][5],\n",
        "                                            labels[3][0][5]],dtype=torch.long)\n",
        "        lossCATEGORIZACION = criterion(o6,labelCATEGORIZACION)     \n",
        "  \n",
        "        totalLoss = lossAcordonado + lossPlataforma + lossTaco + lossHebilla + lossTachas + lossCATEGORIZACION\n",
        "       \n",
        "        #backward & step\n",
        "        totalLoss.backward()\n",
        "                \n",
        "        optimizer.step()\n",
        "\n",
        "        # print statistics\n",
        "        running_loss += totalLoss.item()\n",
        "        if i % 400 == 399:    # print every 400 mini-batches\n",
        "            print('[%d, %5d] loss: %.3f' %\n",
        "                  (epoch + 1, i + 1, running_loss / 400))\n",
        "            \n",
        "            running_loss = 0.0\n",
        "            \n",
        "\n",
        "    print('Finished Training')\n",
        "\n",
        "  def evaluate(self, test_dl):\n",
        "    accuracyTag1 = 0\n",
        "    precisionTag1 = 0\n",
        "    recallTag1 = 0\n",
        "    f1Tag1 = 0\n",
        "    accuracyTag2 = 0\n",
        "    precisionTag2 = 0\n",
        "    recallTag2 = 0\n",
        "    f1Tag2 = 0\n",
        "    accuracyTag3 = 0\n",
        "    precisionTag3 = 0\n",
        "    recallTag3 = 0\n",
        "    f1Tag3 = 0\n",
        "    accuracyTag4 = 0\n",
        "    precisionTag4 = 0\n",
        "    recallTag4 = 0\n",
        "    f1Tag4 = 0\n",
        "    accuracyTag5 = 0\n",
        "    precisionTag5 = 0\n",
        "    recallTag5 = 0\n",
        "    f1Tag5 = 0\n",
        "    accuracyClass = 0\n",
        "    \n",
        "\n",
        "    total = 0\n",
        "    self.model.eval()\n",
        "    with torch.no_grad():\n",
        "      for data in test_dl:\n",
        "        images, labels = data[0].to(self.device), data[1].to(self.device)\n",
        "        t1, t2, t3, t4, t5, classif = self.model(images)\n",
        "\n",
        "        \n",
        "        #METRICAS TAG1\n",
        "        target1 = torch.tensor([[labels[0][0][0]],[labels[1][0][0]],[labels[2][0][0]]\n",
        "                                        ,[labels[3][0][0]]],dtype=torch.float)\n",
        "        tagArr = []\n",
        "        for tt in t1:\n",
        "          itTag = 1. if tt.item() >= 0.7 else 0\n",
        "          tagArr.append(itTag)\n",
        "        tagArr = np.array([tagArr]).transpose()  \n",
        "\n",
        "        accuracyTag1 += accuracy_score(target1.detach(),tagArr)\n",
        "        precisionTag1 += precision_score(target1.detach(),tagArr)\n",
        "        recallTag1 += recall_score(target1.detach(),tagArr)\n",
        "        f1Tag1 += f1_score(target1.detach(),tagArr) \n",
        "\n",
        "        #METRICAS TAG2\n",
        "        target2 = torch.tensor([[labels[0][0][1]],[labels[1][0][1]],[labels[2][0][1]]\n",
        "                                        ,[labels[3][0][1]]],dtype=torch.float)\n",
        "        tagArr = []\n",
        "        for tt in t2:\n",
        "          itTag = 1. if tt.item() >= 0.7 else 0\n",
        "          tagArr.append(itTag)\n",
        "        tagArr = np.array([tagArr]).transpose()  \n",
        "\n",
        "        accuracyTag2 += accuracy_score(target2.detach(),tagArr)\n",
        "        precisionTag2 += precision_score(target2.detach(),tagArr)\n",
        "        recallTag2 += recall_score(target2.detach(),tagArr)\n",
        "        f1Tag2 += f1_score(target2.detach(),tagArr) \n",
        "\n",
        "        #METRICAS TAG3\n",
        "        target3 = torch.tensor([[labels[0][0][2]],[labels[1][0][2]],[labels[2][0][2]]\n",
        "                                        ,[labels[3][0][2]]],dtype=torch.float)\n",
        "        tagArr = []\n",
        "        for tt in t3:\n",
        "          itTag = 1. if tt.item() >= 0.7 else 0\n",
        "          tagArr.append(itTag)\n",
        "        tagArr = np.array([tagArr]).transpose()  \n",
        "\n",
        "        accuracyTag3 += accuracy_score(target3.detach(),tagArr)\n",
        "        precisionTag3 += precision_score(target3.detach(),tagArr)\n",
        "        recallTag3 += recall_score(target3.detach(),tagArr)\n",
        "        f1Tag3 += f1_score(target3.detach(),tagArr) \n",
        "\n",
        "        #METRICAS TAG4\n",
        "        target4 = torch.tensor([[labels[0][0][3]],[labels[1][0][3]],[labels[2][0][3]]\n",
        "                                        ,[labels[3][0][3]]],dtype=torch.float)\n",
        "        tagArr = []\n",
        "        for tt in t4:\n",
        "          itTag = 1. if tt.item() >= 0.7 else 0\n",
        "          tagArr.append(itTag)\n",
        "        tagArr = np.array([tagArr]).transpose()  \n",
        "\n",
        "        accuracyTag4 += accuracy_score(target4.detach(),tagArr)\n",
        "        precisionTag4 += precision_score(target4.detach(),tagArr)\n",
        "        recallTag4 += recall_score(target4.detach(),tagArr)\n",
        "        f1Tag4 += f1_score(target4.detach(),tagArr) \n",
        "\n",
        "        #METRICAS TAG5\n",
        "        target5 = torch.tensor([[labels[0][0][4]],[labels[1][0][4]],[labels[2][0][4]]\n",
        "                                        ,[labels[3][0][4]]],dtype=torch.float)\n",
        "        tagArr = []\n",
        "        for tt in t5:\n",
        "          itTag = 1. if tt.item() >= 0.7 else 0\n",
        "          tagArr.append(itTag)\n",
        "        tagArr = np.array([tagArr]).transpose()  \n",
        "\n",
        "        accuracyTag5 += accuracy_score(target5.detach(),tagArr)\n",
        "        precisionTag5 += precision_score(target5.detach(),tagArr)\n",
        "        recallTag5 += recall_score(target5.detach(),tagArr)\n",
        "        f1Tag5 += f1_score(target5.detach(),tagArr)                 \n",
        "              \n",
        "        \n",
        "        #METRICAS CLASSIFICATION\n",
        "        _,cl = torch.max(classif,1)\n",
        "        target6 = torch.tensor([labels[0][0][5],labels[1][0][5],labels[2][0][5],\n",
        "                                            labels[3][0][5]],dtype=torch.long)\n",
        "        \n",
        "        accuracyClass += accuracy_score(target6.detach(),cl)\n",
        "        \n",
        "               \n",
        "        total += 1\n",
        "\n",
        "    print('END EVALUATE')\n",
        "    print('')\n",
        "    print('METRICAS TAG ACORDONADO')\n",
        "    print('Accuracy: %d %%' % (100 * accuracyTag1 / total))\n",
        "    print('Precision: %d %%' % (100 * precisionTag1 / total))\n",
        "    print('Recall: %d %%' % (100 * recallTag1 / total))\n",
        "    print('F1: %d %%' % (100 * f1Tag1 / total))\n",
        "    print('')\n",
        "    print('METRICAS TAG PLATAFORMA')\n",
        "    print('Accuracy: %d %%' % (100 * accuracyTag2 / total))\n",
        "    print('Precision: %d %%' % (100 * precisionTag2 / total))\n",
        "    print('Recall: %d %%' % (100 * recallTag2 / total))\n",
        "    print('F1: %d %%' % (100 * f1Tag2 / total))\n",
        "    print('')\n",
        "    print('METRICAS TAG TACO')\n",
        "    print('Accuracy: %d %%' % (100 * accuracyTag3 / total))\n",
        "    print('Precision: %d %%' % (100 * precisionTag3 / total))\n",
        "    print('Recall: %d %%' % (100 * recallTag3 / total))\n",
        "    print('F1 Score: %d %%' % (100 * f1Tag3 / total))\n",
        "    print('')\n",
        "    print('METRICAS TAG HEBILLA')\n",
        "    print('Accuracy: %d %%' % (100 * accuracyTag4 / total))\n",
        "    print('Precision: %d %%' % (100 * precisionTag4 / total))\n",
        "    print('Recall: %d %%' % (100 * recallTag4 / total))\n",
        "    print('F1 Score: %d %%' % (100 * f1Tag4 / total))\n",
        "    print('')\n",
        "    print('METRICAS TAG TACHAS')\n",
        "    print('Accuracy: %d %%' % (100 * accuracyTag5 / total))\n",
        "    print('Precision: %d %%' % (100 * precisionTag5 / total))\n",
        "    print('Recall: %d %%' % (100 * recallTag5 / total))\n",
        "    print('F1 Score: %d %%' % (100 * f1Tag5 / total))\n",
        "    print('')\n",
        "    print('METRICAS CLASIFICACION')\n",
        "    print('Accuracy: %d %%' % (100 * accuracyClass / total))\n",
        "    print('')"
      ],
      "execution_count": null,
      "outputs": []
    },
    {
      "cell_type": "markdown",
      "metadata": {
        "id": "S9ipIuECC_cQ"
      },
      "source": [
        "# TRAINING"
      ]
    },
    {
      "cell_type": "markdown",
      "metadata": {
        "id": "E-6g6WnuG-ML"
      },
      "source": [
        "# First convd before training"
      ]
    },
    {
      "cell_type": "code",
      "metadata": {
        "id": "A894_wu1HLAo"
      },
      "source": [
        "mi = ModelInterface()"
      ],
      "execution_count": null,
      "outputs": []
    },
    {
      "cell_type": "code",
      "metadata": {
        "colab": {
          "base_uri": "https://localhost:8080/",
          "height": 144
        },
        "id": "zQbJ4XMpHQuN",
        "outputId": "fdc251b1-095e-478b-9910-76d67b3511f3"
      },
      "source": [
        "weight_tensor = mi.model.conv1.weight.data\n",
        "\n",
        "imshow(torchvision.utils.make_grid(weight_tensor))"
      ],
      "execution_count": null,
      "outputs": [
        {
          "output_type": "display_data",
          "data": {
            "image/png": "[encoded data removed]",
            "text/plain": [
              "<Figure size 432x288 with 1 Axes>"
            ]
          },
          "metadata": {
            "tags": [],
            "needs_background": "light"
          }
        }
      ]
    },
    {
      "cell_type": "markdown",
      "metadata": {
        "id": "YFw-eos0Hki6"
      },
      "source": [
        "# Train"
      ]
    },
    {
      "cell_type": "code",
      "metadata": {
        "colab": {
          "base_uri": "https://localhost:8080/"
        },
        "id": "VDhSRlzoDKIj",
        "outputId": "98637711-e4c3-4f12-b853-c6137f6dac7f"
      },
      "source": [
        "mi.train(12, train_dl)"
      ],
      "execution_count": null,
      "outputs": [
        {
          "output_type": "stream",
          "text": [
            "Training on devide: cpu\n",
            "Running epoch 0\n",
            "[1,   400] loss: 3.931\n",
            "[1,   800] loss: 3.566\n",
            "[1,  1200] loss: 3.074\n",
            "[1,  1600] loss: 2.866\n",
            "[1,  2000] loss: 2.594\n",
            "[1,  2400] loss: 2.415\n",
            "[1,  2800] loss: 2.362\n",
            "Running epoch 1\n",
            "[2,   400] loss: 2.119\n",
            "[2,   800] loss: 2.116\n",
            "[2,  1200] loss: 1.991\n",
            "[2,  1600] loss: 2.036\n",
            "[2,  2000] loss: 1.917\n",
            "[2,  2400] loss: 2.105\n",
            "[2,  2800] loss: 1.979\n",
            "Running epoch 2\n",
            "[3,   400] loss: 1.725\n",
            "[3,   800] loss: 1.707\n",
            "[3,  1200] loss: 1.774\n",
            "[3,  1600] loss: 1.724\n",
            "[3,  2000] loss: 1.691\n",
            "[3,  2400] loss: 1.867\n",
            "[3,  2800] loss: 1.734\n",
            "Running epoch 3\n",
            "[4,   400] loss: 1.569\n",
            "[4,   800] loss: 1.514\n",
            "[4,  1200] loss: 1.571\n",
            "[4,  1600] loss: 1.535\n",
            "[4,  2000] loss: 1.510\n",
            "[4,  2400] loss: 1.587\n",
            "[4,  2800] loss: 1.631\n",
            "Running epoch 4\n",
            "[5,   400] loss: 1.367\n",
            "[5,   800] loss: 1.311\n",
            "[5,  1200] loss: 1.384\n",
            "[5,  1600] loss: 1.426\n",
            "[5,  2000] loss: 1.466\n",
            "[5,  2400] loss: 1.454\n",
            "[5,  2800] loss: 1.453\n",
            "Running epoch 5\n",
            "[6,   400] loss: 1.180\n",
            "[6,   800] loss: 1.147\n",
            "[6,  1200] loss: 1.280\n",
            "[6,  1600] loss: 1.225\n",
            "[6,  2000] loss: 1.284\n",
            "[6,  2400] loss: 1.334\n",
            "[6,  2800] loss: 1.304\n",
            "Running epoch 6\n",
            "[7,   400] loss: 1.011\n",
            "[7,   800] loss: 1.050\n",
            "[7,  1200] loss: 1.072\n",
            "[7,  1600] loss: 1.166\n",
            "[7,  2000] loss: 1.250\n",
            "[7,  2400] loss: 1.248\n",
            "[7,  2800] loss: 1.245\n",
            "Running epoch 7\n",
            "[8,   400] loss: 0.820\n",
            "[8,   800] loss: 0.923\n",
            "[8,  1200] loss: 1.007\n",
            "[8,  1600] loss: 1.147\n",
            "[8,  2000] loss: 1.134\n",
            "[8,  2400] loss: 1.175\n",
            "[8,  2800] loss: 1.170\n",
            "Running epoch 8\n",
            "[9,   400] loss: 0.817\n",
            "[9,   800] loss: 0.881\n",
            "[9,  1200] loss: 0.956\n",
            "[9,  1600] loss: 1.094\n",
            "[9,  2000] loss: 1.083\n",
            "[9,  2400] loss: 1.134\n",
            "[9,  2800] loss: 1.059\n",
            "Running epoch 9\n",
            "[10,   400] loss: 0.747\n",
            "[10,   800] loss: 0.784\n",
            "[10,  1200] loss: 0.960\n",
            "[10,  1600] loss: 0.938\n",
            "[10,  2000] loss: 1.069\n",
            "[10,  2400] loss: 1.080\n",
            "[10,  2800] loss: 1.090\n",
            "Running epoch 10\n",
            "[11,   400] loss: 0.654\n",
            "[11,   800] loss: 0.751\n",
            "[11,  1200] loss: 0.816\n",
            "[11,  1600] loss: 0.951\n",
            "[11,  2000] loss: 1.013\n",
            "[11,  2400] loss: 1.030\n",
            "[11,  2800] loss: 1.049\n",
            "Running epoch 11\n",
            "[12,   400] loss: 0.636\n",
            "[12,   800] loss: 0.753\n",
            "[12,  1200] loss: 0.796\n",
            "[12,  1600] loss: 0.909\n",
            "[12,  2000] loss: 0.979\n",
            "[12,  2400] loss: 0.980\n",
            "[12,  2800] loss: 1.038\n",
            "Finished Training\n"
          ],
          "name": "stdout"
        }
      ]
    },
    {
      "cell_type": "code",
      "metadata": {
        "id": "_MEICiOeMLUO"
      },
      "source": [
        "mi.save_model('drive/My Drive/shoes/model.state')"
      ],
      "execution_count": null,
      "outputs": []
    },
    {
      "cell_type": "markdown",
      "metadata": {
        "id": "E2o07AKSEXHF"
      },
      "source": [
        "# Evaluate"
      ]
    },
    {
      "cell_type": "code",
      "metadata": {
        "id": "Iay6gbwBFT-Q"
      },
      "source": [
        "from sklearn.metrics import accuracy_score\r\n",
        "from sklearn.metrics import precision_score\r\n",
        "from sklearn.metrics import recall_score\r\n",
        "from sklearn.metrics import f1_score\r\n"
      ],
      "execution_count": null,
      "outputs": []
    },
    {
      "cell_type": "code",
      "metadata": {
        "id": "SpeV1FNi2epb"
      },
      "source": [
        "mi.load_model('drive/My Drive/shoes/model.state')"
      ],
      "execution_count": null,
      "outputs": []
    },
    {
      "cell_type": "code",
      "metadata": {
        "id": "TSGVK-1528vk",
        "colab": {
          "base_uri": "https://localhost:8080/",
          "height": 144
        },
        "outputId": "be00b738-60cf-4ddf-eb0c-32d030bfc3db"
      },
      "source": [
        "weight_tensor = mi.model.conv1.weight.data\n",
        "\n",
        "imshow(torchvision.utils.make_grid(weight_tensor))"
      ],
      "execution_count": null,
      "outputs": [
        {
          "output_type": "display_data",
          "data": {
            "image/png": "[encoded data removed]",
            "text/plain": [
              "<Figure size 432x288 with 1 Axes>"
            ]
          },
          "metadata": {
            "tags": [],
            "needs_background": "light"
          }
        }
      ]
    },
    {
      "cell_type": "code",
      "metadata": {
        "colab": {
          "base_uri": "https://localhost:8080/"
        },
        "id": "MNywx0GoE3f5",
        "outputId": "163477b5-3b72-40e3-dfab-e5e4ff2d7ca8"
      },
      "source": [
        "mi.evaluate(test_dl)"
      ],
      "execution_count": null,
      "outputs": [
        {
          "output_type": "stream",
          "text": [
            "END EVALUATE\n",
            "\n",
            "METRICAS TAG ACORDONADO\n",
            "Accuracy: 90 %\n",
            "Precision: 89 %\n",
            "Recall: 87 %\n",
            "F1: 87 %\n",
            "\n",
            "METRICAS TAG PLATAFORMA\n",
            "Accuracy: 84 %\n",
            "Precision: 18 %\n",
            "Recall: 15 %\n",
            "F1: 16 %\n",
            "\n",
            "METRICAS TAG TACO\n",
            "Accuracy: 94 %\n",
            "Precision: 25 %\n",
            "Recall: 24 %\n",
            "F1 Score: 24 %\n",
            "\n",
            "METRICAS TAG HEBILLA\n",
            "Accuracy: 86 %\n",
            "Precision: 10 %\n",
            "Recall: 9 %\n",
            "F1 Score: 9 %\n",
            "\n",
            "METRICAS TAG TACHAS\n",
            "Accuracy: 95 %\n",
            "Precision: 0 %\n",
            "Recall: 0 %\n",
            "F1 Score: 0 %\n",
            "\n",
            "METRICAS CLASIFICACION\n",
            "Accuracy: 86 %\n",
            "\n"
          ],
          "name": "stdout"
        }
      ]
    },
    {
      "cell_type": "markdown",
      "metadata": {
        "id": "gZRrExb6-bBm"
      },
      "source": [
        "#Test"
      ]
    },
    {
      "cell_type": "code",
      "metadata": {
        "id": "acvvkRG-E0lZ",
        "colab": {
          "base_uri": "https://localhost:8080/",
          "height": 720
        },
        "outputId": "ea3f13eb-eb48-4505-cd5f-8e36bd4bd40d"
      },
      "source": [
        "dataiter = iter(test_dl)\n",
        "images, labels = dataiter.next()\n",
        "\n",
        "# print images\n",
        "imshow(torchvision.utils.make_grid(images))\n",
        "print(labels)\n",
        "for l in labels:\n",
        "  for j in range(5):\n",
        "    tag = 1. if l[0][j].item() >= 0.7 else 0\n",
        "    if tag == 1.:\n",
        "      print(tags[j])\n",
        "\n",
        "  print(classes[l[0][5]])  \n",
        "  print('')  \n",
        "\n",
        "print('PREDICTION')\n",
        "print('')\n",
        "t1, t2, t3, t4, t5, classif = mi.model(images)\n",
        "\n",
        "_, predicted = torch.max(classif, 1)\n",
        "for j in range(4):\n",
        "  tag = 1. if t1[j].item() >= 0.7 else 0\n",
        "  if tag == 1.:\n",
        "    print(tags[0])\n",
        "  tag = 1. if t2[j].item() >= 0.7 else 0\n",
        "  if tag == 1.:\n",
        "    print(tags[1])\n",
        "  tag = 1. if t3[j].item() >= 0.7 else 0\n",
        "  if tag == 1.:\n",
        "    print(tags[2])\n",
        "  tag = 1. if t4[j].item() >= 0.7 else 0\n",
        "  if tag == 1.:\n",
        "    print(tags[3])\n",
        "  tag = 1. if t5[j].item() >= 0.7 else 0\n",
        "  if tag == 1.:\n",
        "    print(tags[4])  \n",
        "\n",
        "  print(classes[predicted[j]])\n",
        "  print('')\n",
        "  "
      ],
      "execution_count": null,
      "outputs": [
        {
          "output_type": "display_data",
          "data": {
            "image/png": "[encoded data removed]",
            "text/plain": [
              "<Figure size 432x288 with 1 Axes>"
            ]
          },
          "metadata": {
            "tags": [],
            "needs_background": "light"
          }
        },
        {
          "output_type": "stream",
          "text": [
            "tensor([[[1, 0, 0, 0, 0, 1]],\n",
            "\n",
            "        [[1, 0, 0, 0, 0, 0]],\n",
            "\n",
            "        [[1, 0, 0, 0, 0, 1]],\n",
            "\n",
            "        [[0, 0, 0, 1, 0, 3]]])\n",
            "Acordonado\n",
            "deportivo\n",
            "\n",
            "Acordonado\n",
            "bota\n",
            "\n",
            "Acordonado\n",
            "deportivo\n",
            "\n",
            "Hebilla\n",
            "sandalia\n",
            "\n",
            "PREDICTION\n",
            "\n",
            "Acordonado\n",
            "deportivo\n",
            "\n",
            "Acordonado\n",
            "bota\n",
            "\n",
            "Acordonado\n",
            "deportivo\n",
            "\n",
            "zapato\n",
            "\n"
          ],
          "name": "stdout"
        }
      ]
    }
  ]
}